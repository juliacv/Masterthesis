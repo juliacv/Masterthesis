{
 "cells": [
  {
   "cell_type": "markdown",
   "id": "8072431b",
   "metadata": {},
   "source": [
    "## Notebook to fix the path on the csv files"
   ]
  },
  {
   "cell_type": "code",
   "execution_count": 4,
   "id": "b53952d8",
   "metadata": {},
   "outputs": [],
   "source": [
    "import csv\n",
    "import pandas as pd\n",
    " "
   ]
  },
  {
   "cell_type": "code",
   "execution_count": 5,
   "id": "a1918c77",
   "metadata": {},
   "outputs": [],
   "source": [
    "def csv_path_fix(csv_file, new_half_path, out_name):\n",
    "    row_list=[]\n",
    "    \n",
    "    with open(csv_file,\"r\") as csv_fi:\n",
    "        csv_reader = csv.reader(csv_fi, delimiter=',')\n",
    "        \n",
    "        for row in csv_reader:\n",
    "            path = row[0]\n",
    "            folders = path.split(\"/\")\n",
    "            image = folders[8]\n",
    "            \n",
    "            new_path = f\"{new_half_path}/{image}\"\n",
    "            row[0] = new_path\n",
    "            row_list.append(row)\n",
    "              \n",
    "    csv_fi.close()\n",
    "    \n",
    "    with open(out_name,\"w\") as out:\n",
    "        for r in row_list:\n",
    "            r = str(r).replace(\"'\", \"\").replace(\"[\",\"\").replace(\"]\",\"\").replace(\" \",\"\")\n",
    "            out.write(f'{r}\\n')\n",
    "    out.close()\n",
    "    \n",
    "\n",
    "        "
   ]
  },
  {
   "cell_type": "code",
   "execution_count": 10,
   "id": "18bc4d6f",
   "metadata": {},
   "outputs": [
    {
     "ename": "IndexError",
     "evalue": "list index out of range",
     "output_type": "error",
     "traceback": [
      "\u001b[0;31m---------------------------------------------------------------------------\u001b[0m",
      "\u001b[0;31mIndexError\u001b[0m                                Traceback (most recent call last)",
      "Cell \u001b[0;32mIn[10], line 5\u001b[0m\n\u001b[1;32m      3\u001b[0m train_csv \u001b[38;5;241m=\u001b[39m \u001b[38;5;124m\"\u001b[39m\u001b[38;5;124m/Home/siv31/jng001/Master_RetinaNet/keras-retinanet/datasets_da/train_annotations.csv\u001b[39m\u001b[38;5;124m\"\u001b[39m\n\u001b[1;32m      4\u001b[0m train_out \u001b[38;5;241m=\u001b[39m \u001b[38;5;124m\"\u001b[39m\u001b[38;5;124m/Home/siv31/jng001/Master_RetinaNet/keras-retinanet/datasets_da/train_annotations_1.csv\u001b[39m\u001b[38;5;124m\"\u001b[39m\n\u001b[0;32m----> 5\u001b[0m \u001b[43mcsv_path_fix\u001b[49m\u001b[43m(\u001b[49m\u001b[43mtrain_csv\u001b[49m\u001b[43m,\u001b[49m\u001b[43m \u001b[49m\u001b[43mhalf_path\u001b[49m\u001b[43m,\u001b[49m\u001b[43m \u001b[49m\u001b[43mtrain_out\u001b[49m\u001b[43m)\u001b[49m\n\u001b[1;32m      7\u001b[0m val_csv \u001b[38;5;241m=\u001b[39m \u001b[38;5;124m\"\u001b[39m\u001b[38;5;124m/Home/siv31/jng001/Master_RetinaNet/keras-retinanet/datasets_da/val_annotations.csv\u001b[39m\u001b[38;5;124m\"\u001b[39m\n\u001b[1;32m      8\u001b[0m val_out \u001b[38;5;241m=\u001b[39m \u001b[38;5;124m\"\u001b[39m\u001b[38;5;124m/Home/siv31/jng001/Master_RetinaNet/keras-retinanet/datasets_da/val_annotations_1.csv\u001b[39m\u001b[38;5;124m\"\u001b[39m\n",
      "Cell \u001b[0;32mIn[5], line 10\u001b[0m, in \u001b[0;36mcsv_path_fix\u001b[0;34m(csv_file, new_half_path, out_name)\u001b[0m\n\u001b[1;32m      8\u001b[0m path \u001b[38;5;241m=\u001b[39m row[\u001b[38;5;241m0\u001b[39m]\n\u001b[1;32m      9\u001b[0m folders \u001b[38;5;241m=\u001b[39m path\u001b[38;5;241m.\u001b[39msplit(\u001b[38;5;124m\"\u001b[39m\u001b[38;5;124m/\u001b[39m\u001b[38;5;124m\"\u001b[39m)\n\u001b[0;32m---> 10\u001b[0m image \u001b[38;5;241m=\u001b[39m \u001b[43mfolders\u001b[49m\u001b[43m[\u001b[49m\u001b[38;5;241;43m8\u001b[39;49m\u001b[43m]\u001b[49m\n\u001b[1;32m     12\u001b[0m new_path \u001b[38;5;241m=\u001b[39m \u001b[38;5;124mf\u001b[39m\u001b[38;5;124m\"\u001b[39m\u001b[38;5;132;01m{\u001b[39;00mnew_half_path\u001b[38;5;132;01m}\u001b[39;00m\u001b[38;5;124m/\u001b[39m\u001b[38;5;132;01m{\u001b[39;00mimage\u001b[38;5;132;01m}\u001b[39;00m\u001b[38;5;124m\"\u001b[39m\n\u001b[1;32m     13\u001b[0m row[\u001b[38;5;241m0\u001b[39m] \u001b[38;5;241m=\u001b[39m new_path\n",
      "\u001b[0;31mIndexError\u001b[0m: list index out of range"
     ]
    }
   ],
   "source": [
    "half_path = \"/Home/siv31/jng001/Master_RetinaNet/keras-retinanet/datasets_da/PNGImages\"\n",
    "\n",
    "train_csv = \"/Home/siv31/jng001/Master_RetinaNet/keras-retinanet/datasets_da/train_annotations.csv\"\n",
    "train_out = \"/Home/siv31/jng001/Master_RetinaNet/keras-retinanet/datasets_da/train_annotations_1.csv\"\n",
    "csv_path_fix(train_csv, half_path, train_out)\n",
    "\n",
    "val_csv = \"/Home/siv31/jng001/Master_RetinaNet/keras-retinanet/datasets_da/val_annotations.csv\"\n",
    "val_out = \"/Home/siv31/jng001/Master_RetinaNet/keras-retinanet/datasets_da/val_annotations_1.csv\"\n",
    "csv_path_fix(val_csv, half_path, val_out)\n",
    "\n",
    "test_csv = \"/Home/siv31/jng001/Master_RetinaNet/keras-retinanet/datasets_da/test_annotations.csv\"\n",
    "test_out = \"/Home/siv31/jng001/Master_RetinaNet/keras-retinanet/datasets_da/test_annotations_1.csv\"\n",
    "csv_path_fix(test_csv, half_path, test_out)\n"
   ]
  },
  {
   "cell_type": "code",
   "execution_count": null,
   "id": "a00783bc",
   "metadata": {},
   "outputs": [],
   "source": []
  },
  {
   "cell_type": "code",
   "execution_count": null,
   "id": "646ee98a",
   "metadata": {},
   "outputs": [],
   "source": []
  }
 ],
 "metadata": {
  "kernelspec": {
   "display_name": "ret",
   "language": "python",
   "name": "ret"
  },
  "language_info": {
   "codemirror_mode": {
    "name": "ipython",
    "version": 3
   },
   "file_extension": ".py",
   "mimetype": "text/x-python",
   "name": "python",
   "nbconvert_exporter": "python",
   "pygments_lexer": "ipython3",
   "version": "3.10.4"
  }
 },
 "nbformat": 4,
 "nbformat_minor": 5
}
