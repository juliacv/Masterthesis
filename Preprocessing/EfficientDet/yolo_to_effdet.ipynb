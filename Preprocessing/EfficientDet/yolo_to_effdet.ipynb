{
 "cells": [
  {
   "attachments": {},
   "cell_type": "markdown",
   "metadata": {},
   "source": [
    "### From YOLO format to EfficientDet format\n",
    "Transform the Yolo annotations to EfficienDet annotations."
   ]
  },
  {
   "cell_type": "code",
   "execution_count": 2,
   "metadata": {},
   "outputs": [],
   "source": [
    "import fiftyone as fo\n",
    "import fiftyone.zoo as foz"
   ]
  },
  {
   "cell_type": "code",
   "execution_count": 24,
   "metadata": {},
   "outputs": [
    {
     "name": "stdout",
     "output_type": "stream",
     "text": [
      "Ignoring unsupported parameter 'classes' for importer type <class 'fiftyone.utils.yolo.YOLOv5DatasetImporter'>\n",
      " 100% |███████████████| 9620/9620 [9.2s elapsed, 0s remaining, 1.0K samples/s]        \n",
      " 100% |███████████████| 9620/9620 [57.6s elapsed, 0s remaining, 156.6 samples/s]      \n",
      "Ignoring unsupported parameter 'classes' for importer type <class 'fiftyone.utils.yolo.YOLOv5DatasetImporter'>\n",
      " 100% |███████████████| 4124/4124 [2.4s elapsed, 0s remaining, 1.8K samples/s]      \n",
      " 100% |█████████████| 13744/13744 [1.4m elapsed, 0s remaining, 145.0 samples/s]      \n",
      "Ignoring unsupported parameter 'classes' for importer type <class 'fiftyone.utils.yolo.YOLOv5DatasetImporter'>\n",
      " 100% |███████████████| 2062/2062 [1.9s elapsed, 0s remaining, 1.1K samples/s]         \n",
      " 100% |█████████████| 15806/15806 [1.7m elapsed, 0s remaining, 139.4 samples/s]      \n"
     ]
    }
   ],
   "source": [
    "#https://towardsdatascience.com/how-to-work-with-object-detection-datasets-in-coco-format-9bf4fb5848a4\n",
    "\n",
    "#Export Data\n",
    "name = \"Request_json_5\"\n",
    "\n",
    "dataset_dir = \"/Volumes/T7/Master/datasets/Request\"\n",
    "\n",
    "# The splits to load\n",
    "splits = [\"train\", \"val\", \"test\"]\n",
    "\n",
    "# Load the dataset, using tags to mark the samples in each split\n",
    "dataset = fo.Dataset(name)\n",
    "for split in splits:\n",
    "    dataset.add_dir(\n",
    "        dataset_dir=dataset_dir,\n",
    "        dataset_type=fo.types.YOLOv5Dataset,\n",
    "        classes=[\"transversal\", \"longitudinal\", \"vessel\", \"anastomosis\", \"aorta\"],\n",
    "        split=split,\n",
    "        tags=split,\n",
    "        include_all_data=True,)\n",
    "\n",
    "\n",
    "    # The directory to which to write the exported dataset\n",
    "    export_dir = f\"/Volumes/T7/Master/EfficientDet/data/{split}\"\n",
    "\n",
    "    # The name of the sample field containing the label that you wish to export\n",
    "    # Used when exporting labeled datasets (e.g., classification or detection)\n",
    "    label_field = \"ground_truth\"  # for example\n",
    "\n",
    "    dataset_type = fo.types.COCODetectionDataset\n",
    "\n",
    "    # Export the dataset\n",
    "    dataset.export(\n",
    "        export_dir=export_dir,\n",
    "        dataset_type=dataset_type,\n",
    "        label_field=label_field,\n",
    "    )"
   ]
  },
  {
   "cell_type": "code",
   "execution_count": 3,
   "metadata": {},
   "outputs": [
    {
     "name": "stdout",
     "output_type": "stream",
     "text": [
      " 100% |█████████████| 13442/13442 [15.8s elapsed, 0s remaining, 858.8 samples/s]      \n",
      " 100% |█████████████| 13442/13442 [1.7m elapsed, 0s remaining, 109.3 samples/s]      \n",
      " 100% |███████████████| 2881/2881 [3.2s elapsed, 0s remaining, 870.4 samples/s]      \n",
      " 100% |█████████████| 16323/16323 [2.1m elapsed, 0s remaining, 104.9 samples/s]      \n",
      " 100% |███████████████| 2882/2882 [3.4s elapsed, 0s remaining, 888.2 samples/s]      \n",
      " 100% |█████████████| 19205/19205 [2.7m elapsed, 0s remaining, 95.3 samples/s]       \n"
     ]
    }
   ],
   "source": [
    "#Yolo to Effdet on Data Augmented data\n",
    "#Export Data\n",
    "name = \"Request_json_8\"\n",
    "\n",
    "dataset_dir = \"/Volumes/T7/Master/Data_augment/Yolov5/Request_da\"\n",
    "\n",
    "# The splits to load\n",
    "splits = [\"train\", \"val\", \"test\"]\n",
    "\n",
    "# Load the dataset, using tags to mark the samples in each split\n",
    "dataset = fo.Dataset(name)\n",
    "for split in splits:\n",
    "    dataset.add_dir(\n",
    "        dataset_dir=dataset_dir,\n",
    "        dataset_type=fo.types.YOLOv5Dataset,\n",
    "        #classes=[\"transversal\", \"longitudinal\", \"vessel\", \"anastomosis\", \"aorta\"],\n",
    "        split=split,\n",
    "        tags=split,\n",
    "        include_all_data=True,)\n",
    "\n",
    "\n",
    "    # The directory to which to write the exported dataset\n",
    "    export_dir = f\"/Volumes/T7/Master/Data_augment/EffDet/Request_da/{split}\"\n",
    "\n",
    "    # The name of the sample field containing the label that you wish to export\n",
    "    # Used when exporting labeled datasets (e.g., classification or detection)\n",
    "    label_field = \"ground_truth\"  # for example\n",
    "\n",
    "    dataset_type = fo.types.COCODetectionDataset\n",
    "\n",
    "    # Export the dataset\n",
    "    dataset.export(\n",
    "        export_dir=export_dir,\n",
    "        dataset_type=dataset_type,\n",
    "        label_field=label_field,\n",
    "    )\n"
   ]
  },
  {
   "cell_type": "code",
   "execution_count": null,
   "metadata": {},
   "outputs": [],
   "source": []
  }
 ],
 "metadata": {
  "kernelspec": {
   "display_name": "base",
   "language": "python",
   "name": "python3"
  },
  "language_info": {
   "codemirror_mode": {
    "name": "ipython",
    "version": 3
   },
   "file_extension": ".py",
   "mimetype": "text/x-python",
   "name": "python",
   "nbconvert_exporter": "python",
   "pygments_lexer": "ipython3",
   "version": "3.7.10"
  },
  "orig_nbformat": 4,
  "vscode": {
   "interpreter": {
    "hash": "4e8f3856dadb71ab5addd3708ed2e099558e960f7f42f275ca09b59ace68eee4"
   }
  }
 },
 "nbformat": 4,
 "nbformat_minor": 2
}
